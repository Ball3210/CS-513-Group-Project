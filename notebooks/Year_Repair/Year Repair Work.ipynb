{
 "cells": [
  {
   "cell_type": "markdown",
   "id": "eaf6e0f9",
   "metadata": {},
   "source": [
    "## get data"
   ]
  },
  {
   "cell_type": "code",
   "execution_count": 1,
   "id": "558cc6a4",
   "metadata": {},
   "outputs": [
    {
     "name": "stdout",
     "output_type": "stream",
     "text": [
      "                              artist category       genre   \n",
      "0                    Backstreet Boys    Blues         Pop  \\\n",
      "1                            Various     Data         NaN   \n",
      "2                          No Return     Data        Data   \n",
      "3          Ã¤â¸â­ã¦?â€˜ã©â€ºâ€¦ã¤â¿å      Pop         Pop   \n",
      "4                            Emanuel     Data        Data   \n",
      "...                              ...      ...         ...   \n",
      "9758  Various Artists - Notting Hill    Blues  Soundtrack   \n",
      "9759                          Lenine    Blues       Samba   \n",
      "9760                      Ben Harper    Blues       Blues   \n",
      "9761                       Alvin Lee    Blues       Blues   \n",
      "9762                 Manuel Barrueco    Blues        Jazz   \n",
      "\n",
      "                                             title  tracks  year      id   \n",
      "0                                       Millennium    1000   NaN   10000  \\\n",
      "1                     Frankfurt Trance Vol. 04 Cd1    1001   NaN  100001   \n",
      "2                                  Self Mutilation    1002   NaN  100002   \n",
      "3     Ã¦æ’â³ã£?â€žã¥â€¡âºã£?â®ã£?â€¹ã£?â€˜ã£â€šâ€°    1003  1989  100003   \n",
      "4                                       Felicidade    1004  1998  100004   \n",
      "...                                            ...     ...   ...     ...   \n",
      "9758                                  Notting Hill   10758  1999    9838   \n",
      "9759                                    Na Pressao   10759   NaN    9863   \n",
      "9760                              The Will To Live   10760  1997    9868   \n",
      "9761                            I Hear You Rockin'   10761  1993    9876   \n",
      "9762                                 Nylon & Steel   10762  2001    9969   \n",
      "\n",
      "      merged_values  \n",
      "0               NaN  \n",
      "1               NaN  \n",
      "2               NaN  \n",
      "3               NaN  \n",
      "4               NaN  \n",
      "...             ...  \n",
      "9758            NaN  \n",
      "9759            NaN  \n",
      "9760            NaN  \n",
      "9761            NaN  \n",
      "9762            NaN  \n",
      "\n",
      "[9763 rows x 8 columns]\n"
     ]
    }
   ],
   "source": [
    "import numpy as np\n",
    "import pandas as pd\n",
    " \n",
    "\n",
    "data = pd.read_csv(\"../../cleaning_stages/3_category_genre/cddb_2.tsv\", sep='\\t')\n",
    "tracks = pd.read_csv(\"../../cleaning_stages/3_category_genre/cddb_tracks.tsv\", sep='\\t')\n",
    "\n",
    "\n",
    "# printing data\n",
    "print(data)"
   ]
  },
  {
   "cell_type": "markdown",
   "id": "f7b4c739",
   "metadata": {},
   "source": [
    "## Method"
   ]
  },
  {
   "cell_type": "code",
   "execution_count": 10,
   "id": "41052e01",
   "metadata": {},
   "outputs": [],
   "source": [
    "def check_year(df):\n",
    "    Years_Missing = []\n",
    "    # Tracks_Dict.append([Tracks_id_counter, New_Track_id_counter, prt])\n",
    "    \n",
    "    for i, row in df.iterrows():\n",
    "        # 1. get year\n",
    "        year_str = df.at[i,'year']\n",
    "        \n",
    "        if type(year_str) == float:\n",
    "            Years_Missing.append(i)\n",
    "    \n",
    "    return Years_Missing"
   ]
  },
  {
   "cell_type": "markdown",
   "id": "6896ca44",
   "metadata": {},
   "source": [
    "## Run Method"
   ]
  },
  {
   "cell_type": "code",
   "execution_count": 11,
   "id": "5457318e",
   "metadata": {},
   "outputs": [],
   "source": [
    "var = check_year(data)"
   ]
  },
  {
   "cell_type": "code",
   "execution_count": 12,
   "id": "b3f48c9b",
   "metadata": {},
   "outputs": [
    {
     "name": "stdout",
     "output_type": "stream",
     "text": [
      "4532\n"
     ]
    }
   ],
   "source": [
    "print(len(var))"
   ]
  },
  {
   "cell_type": "code",
   "execution_count": null,
   "id": "c48c8b9e",
   "metadata": {},
   "outputs": [],
   "source": []
  }
 ],
 "metadata": {
  "kernelspec": {
   "display_name": "Python 3 (ipykernel)",
   "language": "python",
   "name": "python3"
  },
  "language_info": {
   "codemirror_mode": {
    "name": "ipython",
    "version": 3
   },
   "file_extension": ".py",
   "mimetype": "text/x-python",
   "name": "python",
   "nbconvert_exporter": "python",
   "pygments_lexer": "ipython3",
   "version": "3.9.16"
  }
 },
 "nbformat": 4,
 "nbformat_minor": 5
}
