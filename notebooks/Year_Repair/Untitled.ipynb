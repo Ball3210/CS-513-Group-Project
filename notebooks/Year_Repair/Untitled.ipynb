{
 "cells": [
  {
   "cell_type": "code",
   "execution_count": 90,
   "id": "7596804e",
   "metadata": {},
   "outputs": [],
   "source": [
    "import json\n",
    "import spotipy\n",
    "from spotipy.oauth2 import SpotifyClientCredentials\n",
    "\n",
    "creds = None\n",
    "with open('../../secret.json') as creds_file:\n",
    "    creds = json.load(creds_file)\n",
    "\n",
    "\n",
    "# Set up the Spotify client\n",
    "client_credentials_manager = SpotifyClientCredentials(client_id=creds['client_id'], client_secret=creds['client_secret'])\n",
    "sp = spotipy.Spotify(client_credentials_manager=client_credentials_manager)\n"
   ]
  },
  {
   "cell_type": "code",
   "execution_count": 91,
   "id": "f6641fd1",
   "metadata": {},
   "outputs": [],
   "source": [
    "def get_song_release_year(song_name, artist_name):\n",
    "    # Search for the song\n",
    "    results = sp.search(q=f'track:{song_name} artist:{artist_name}', type='track', limit=1)\n",
    "\n",
    "    # Extract the release year from the first search result\n",
    "    if len(results['tracks']['items']) > 0:\n",
    "        release_date = results['tracks']['items'][0]['album']['release_date']\n",
    "        release_year = release_date.split('-')[0]\n",
    "        return release_year\n",
    "\n",
    "    # Return None if no results were found\n",
    "    return None"
   ]
  },
  {
   "cell_type": "code",
   "execution_count": 92,
   "id": "5b8a0983",
   "metadata": {},
   "outputs": [
    {
     "name": "stdout",
     "output_type": "stream",
     "text": [
      "2003\n"
     ]
    }
   ],
   "source": [
    "artist_name = \"Linkin Park\"\n",
    "song_name = \"Breaking the Habit\"\n",
    "print(get_song_release_year(song_name, artist_name))"
   ]
  },
  {
   "cell_type": "code",
   "execution_count": null,
   "id": "5fe93926",
   "metadata": {},
   "outputs": [],
   "source": []
  },
  {
   "cell_type": "code",
   "execution_count": 95,
   "id": "da2120d9",
   "metadata": {},
   "outputs": [
    {
     "name": "stdout",
     "output_type": "stream",
     "text": [
      "Haydn ----  Mad Season  ---- 2021\n",
      "Haydn ----  With You  ---- 2021\n",
      "Leon Redbone ----  When The Lights Are Low  ---- 2014\n",
      "Nat King Cole ----  Medley  ---- 2021\n",
      "Kenny G ---- Intro  ---- 1980\n",
      "Bjork ----  Ave  ---- 2004\n",
      "Rob Zombie ----  Blue  ---- 2021\n",
      "Dido ----  / I Can't Stop  ---- 2016\n",
      "Garbage ----  Men  ---- 2021\n",
      "Globe ----  Ãã¥ã«ã»ã¿, Ãã«ã¥ã¤ã­ã»ã¿  ---- 2002\n",
      "Savage Garden ----  Down  ---- 1999\n",
      "Metallica ---- Intro  ---- 2020\n",
      "Pantera ----  Gã¥r Nu  ---- 2018\n",
      "Rush ----  People World  ---- 2014\n",
      "The Strokes ----  Take It Or Leave It  ---- 2001\n",
      "Phil Collins ----  All Against  ---- 2016\n",
      "X Japan ----  If...  ---- 2006\n",
      "Bush ---- What's That?  ---- 2021\n",
      "David J ----  Fata Morgana  ---- 2013\n",
      "Garbage ----  Zombie  ---- 1958\n",
      "Dream Theater ----  Fingers  ---- 2009\n",
      "Ministry ----  No Way  ---- 2022\n",
      "Madonna ----  Mad  ---- 2015\n",
      "Nirvana ----  Ã„ãã„ã ãã¥  ---- 1991\n",
      "Alvin Lee ---- Intro  ---- 2014\n",
      "Ash ----  K.I.S.S.  ---- 2021\n",
      "Jethro Tull ---- Intro  ---- 2021\n",
      "Queen ----  You An Me  ---- 1995\n",
      "Ac /dc ----  Snowball  ---- 1981\n",
      "Cousteau ----  Blue  ---- 2000\n",
      "Grieg ---- 1  ---- 2015\n",
      "Tom Waits ----  The Last Rose Of Summer  ---- 1993\n",
      "Tom Waits ----  Interlude  ---- 1993\n"
     ]
    }
   ],
   "source": [
    "import pandas as pd\n",
    " \n",
    "\n",
    "cddb_df = pd.read_csv('../../cleaning_stages/3_category_genre/cddb_2.tsv', sep='\\t')\n",
    "tracks_df = pd.read_csv('../../cleaning_stages/3_category_genre/cddb_tracks.tsv', sep='\\t')\n",
    " \n",
    "# printing data\n",
    "# print(cddb_df)\n",
    "# print(tracks_df)\n",
    "\n",
    "cddb_df = cddb_df[cddb_df['year'].isnull()]\n",
    "cddb_df = cddb_df[['artist', 'id', 'year']]\n",
    "# print(cddb_df)\n",
    "\n",
    "def start_repair():\n",
    "    for _, cddb_row in cddb_df.iterrows():\n",
    "        artist_name = cddb_row['artist']\n",
    "\n",
    "        # just grab the first song of the track\n",
    "        tracks_for_album = tracks_df[tracks_df['Album Id'] == cddb_row['id']]\n",
    "        \n",
    "        if tracks_for_album.empty:\n",
    "            # print('TOSS: ' + str(cddb_row['id']) + ' ---- ' + artist_name)\n",
    "            continue\n",
    "        \n",
    "        for _, track_row in tracks_for_album.iterrows():\n",
    "            song_name = track_row['Name']\n",
    "            fix = get_song_release_year(song_name, artist_name)\n",
    "            if fix:\n",
    "                print(f'{artist_name} ---- {song_name} ---- {fix}')\n",
    "                cddb_row['year'] = fix\n",
    "                break # we found one we are clean\n",
    "            \n",
    "# print(cddb_df[cddb_df['id'] == 100001])\n",
    "# print(tracks_df[tracks_df['Album Id'] == 100001])\n",
    "start_repair()\n",
    "    "
   ]
  },
  {
   "cell_type": "code",
   "execution_count": null,
   "id": "78126f04",
   "metadata": {},
   "outputs": [],
   "source": []
  },
  {
   "cell_type": "code",
   "execution_count": null,
   "id": "7f1c1edf",
   "metadata": {},
   "outputs": [],
   "source": []
  }
 ],
 "metadata": {
  "kernelspec": {
   "display_name": "Python 3 (ipykernel)",
   "language": "python",
   "name": "python3"
  },
  "language_info": {
   "codemirror_mode": {
    "name": "ipython",
    "version": 3
   },
   "file_extension": ".py",
   "mimetype": "text/x-python",
   "name": "python",
   "nbconvert_exporter": "python",
   "pygments_lexer": "ipython3",
   "version": "3.11.4"
  }
 },
 "nbformat": 4,
 "nbformat_minor": 5
}
