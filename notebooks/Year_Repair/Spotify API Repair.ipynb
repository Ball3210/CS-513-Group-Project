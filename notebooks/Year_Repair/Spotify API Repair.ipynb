{
 "cells": [
  {
   "cell_type": "code",
   "execution_count": 22,
   "id": "7596804e",
   "metadata": {},
   "outputs": [
    {
     "name": "stdout",
     "output_type": "stream",
     "text": [
      "hi\n",
      "<spotipy.client.Spotify object at 0x0000016280D08BE0>\n"
     ]
    }
   ],
   "source": [
    "import json\n",
    "import spotipy\n",
    "from spotipy.oauth2 import SpotifyClientCredentials\n",
    "import time\n",
    "import pandas as pd\n",
    "from time import sleep\n",
    "from tqdm import tqdm\n",
    "\n",
    "\n",
    "creds = None\n",
    "with open('../../secret.json') as creds_file:\n",
    "    creds = json.load(creds_file)\n",
    "\n",
    "\n",
    "# Set up the Spotify client\n",
    "client_credentials_manager = SpotifyClientCredentials(client_id=creds['client_id'], client_secret=creds['client_secret'])\n",
    "sp = spotipy.Spotify(client_credentials_manager=client_credentials_manager)\n",
    "\n",
    "print('hi')\n",
    "print(sp)\n"
   ]
  },
  {
   "cell_type": "code",
   "execution_count": 23,
   "id": "9d37435d",
   "metadata": {},
   "outputs": [],
   "source": [
    "# import time\n",
    "# \n",
    "# artist_name = \"Linkin Park\"\n",
    "# song_name = \"Breaking the Habit\"\n",
    "# \n",
    "# try:\n",
    "#     result = sp.search(q=f'track:{song_name} artist:{artist_name}', type='track')\n",
    "#     print(result)\n",
    "# except spotipy.SpotifyException as e:\n",
    "#     print(f\"An error occurred: {e}\")\n",
    "# finally:\n",
    "#     # Introduce a delay between requests (e.g., 1 second)\n",
    "#     time.sleep(1)\n"
   ]
  },
  {
   "cell_type": "code",
   "execution_count": 3,
   "id": "f6641fd1",
   "metadata": {},
   "outputs": [],
   "source": [
    "def get_song_release_year(song_name, artist_name):\n",
    "    sleep(.5)\n",
    "    # Search for the song\n",
    "    # trying this search for faster queries hopefully\n",
    "    # search(q, limit=10, offset=0, type='track', market=None)\n",
    "    # let q = String.init(format:\"artist:%@ track:%@\",artistName,trackName)\n",
    "    # https://stackoverflow.com/questions/42766000/spotipy-how-do-i-search-by-both-artist-and-song\n",
    "    q = \"artist:{} track:{}\".format(artist_name, song_name)\n",
    "    results = sp.search(q, limit=1, offset=0, type='track', market=None)\n",
    "\n",
    "    # Extract the release year from the first search result\n",
    "    if len(results['tracks']['items']) > 0:\n",
    "        release_date = results['tracks']['items'][0]['album']['release_date']\n",
    "        release_year = release_date.split('-')[0]\n",
    "        return release_year\n",
    "    else:\n",
    "        # Return None if no results were found\n",
    "        return None"
   ]
  },
  {
   "cell_type": "code",
   "execution_count": 6,
   "id": "5b8a0983",
   "metadata": {},
   "outputs": [],
   "source": [
    "artist_name = \"Linkin Park\"\n",
    "song_name = \"Breaking the Habit\"\n",
    "try:\n",
    "    print(get_song_release_year(song_name, artist_name))\n",
    "except Exception as e:\n",
    "    print(str(e))\n",
    "\n"
   ]
  },
  {
   "cell_type": "code",
   "execution_count": 17,
   "id": "3b607014",
   "metadata": {},
   "outputs": [],
   "source": [
    "cddb_df = pd.read_csv('../../cleaning_stages/3_category_genre/cddb_2.tsv', sep='\\t')\n",
    "tracks_df = pd.read_csv('../../cleaning_stages/3_category_genre/cddb_tracks.tsv', sep='\\t')\n",
    "\n",
    "# not updating tracks here so can save to next cleaning stage\n",
    "tracks_df.to_csv('../../cleaning_stages/4_year_repair/cddb_tracks.tsv', sep=\"\\t\", index=False)\n",
    "\n",
    "cddb_df_trim = cddb_df[cddb_df['year'].isnull()]\n",
    "cddb_df_trim = cddb_df_trim[['artist', 'tracks', 'year', 'id']]"
   ]
  },
  {
   "cell_type": "code",
   "execution_count": 18,
   "id": "ad550b6c",
   "metadata": {},
   "outputs": [
    {
     "name": "stdout",
     "output_type": "stream",
     "text": [
      "num null years: $4532\n"
     ]
    }
   ],
   "source": [
    "# lists are much faster than dataframes, converting\n",
    "cddb_list = cddb_df_trim.values.tolist()\n",
    "tracks_list = tracks_df.values.tolist()\n",
    "\n",
    "print(f'num null years: ${len(cddb_list)}')"
   ]
  },
  {
   "cell_type": "code",
   "execution_count": 19,
   "id": "2522aadc",
   "metadata": {},
   "outputs": [
    {
     "name": "stdout",
     "output_type": "stream",
     "text": [
      "46\n"
     ]
    }
   ],
   "source": [
    "# list should have \n",
    "n = 100\n",
    "   \n",
    "# using list comprehension \n",
    "cddb_list_chunks = [cddb_list[i:i + n] for i in range(0, len(cddb_list), n)] \n",
    "print(len(cddb_list_chunks))"
   ]
  },
  {
   "cell_type": "code",
   "execution_count": 20,
   "id": "da2120d9",
   "metadata": {},
   "outputs": [],
   "source": [
    "def start_repair(cd_list, tracks_list):\n",
    "    num_repairs = 0\n",
    "    num_not_repairable = 0\n",
    "    \n",
    "    total_rows = len(cd_list)\n",
    "    for cddb_row in tqdm(cd_list, total=total_rows, desc='Processing rows', ncols=100):\n",
    "    #for cddb_row in cd_list:\n",
    "  \n",
    "        artist_name = cddb_row[0]\n",
    "        album_id = cddb_row[1]\n",
    "\n",
    "        # Grab the tracks for this album\n",
    "        tracks_for_album = []\n",
    "        for row in tracks_list:\n",
    "            if row[1] == album_id:\n",
    "                tracks_for_album.append(row[2])\n",
    "            # stop iterating if album id is greater\n",
    "            elif row[1] > int(album_id):\n",
    "                break\n",
    "                \n",
    "        # tracks_for_album = tracks_df[tracks_df['Album Id'] == cddb_row['tracks']]\n",
    "        \n",
    "        if len(tracks_for_album) == 0:\n",
    "            # No song for track something is wrong\n",
    "            # print('TOSS: ' + str(cddb_row['id']) + ' ---- ' + artist_name)\n",
    "            num_not_repairable += 1\n",
    "            cd_list.remove(cddb_row)\n",
    "            continue\n",
    "        elif len(tracks_for_album) >= 5:\n",
    "            # if first 5 songs fail then odds are the whole row fill fail\n",
    "            tracks_for_album = tracks_for_album[:5]\n",
    "        \n",
    "        # old code\n",
    "        #for _, track_row in enumerate(tracks_for_album):\n",
    "        #    song_name = track_row['Name']\n",
    "        #    fix = get_song_release_year(song_name, artist_name)\n",
    "        #    if fix:\n",
    "        #        # print(f'{artist_name} ---- {song_name} ---- {fix}')\n",
    "        #        cddb_row['year'] = fix\n",
    "        #        num_repairs += 1\n",
    "        #        break # we found one we are clean\n",
    "        \n",
    "        for track in tracks_for_album:\n",
    "            fix = get_song_release_year(track, artist_name)\n",
    "            if fix:\n",
    "                # print(f'{artist_name} ---- {song_name} ---- {fix}')\n",
    "                # cddb_row[2] = fix\n",
    "                num_repairs += 1\n",
    "                # update cddb_df directly\n",
    "                idx_list = cddb_df.index[cddb_df['id'] == cddb_row[3]].tolist()\n",
    "                idx = idx_list[0]\n",
    "                cddb_df.at[idx,'year'] = fix\n",
    "                break # we found one we are clean\n",
    "        \n",
    "    print(f'Done! num repairs: {num_repairs}, num not repairable: {num_not_repairable}')\n",
    "    return cd_list\n",
    "    "
   ]
  },
  {
   "cell_type": "code",
   "execution_count": 21,
   "id": "ca4ea05c",
   "metadata": {},
   "outputs": [
    {
     "name": "stderr",
     "output_type": "stream",
     "text": [
      "Processing rows: 100%|████████████████████████████████████████████| 100/100 [03:30<00:00,  2.10s/it]\n"
     ]
    },
    {
     "name": "stdout",
     "output_type": "stream",
     "text": [
      "Done! num repairs: 40, num not repairable: 0\n",
      "finished chunk: 0\n",
      "[['Backstreet Boys', 1000, nan, 10000], ['Various', 1001, nan, 100001], ['No Return', 1002, nan, 100002], ['Ã¥å\\xa0â€¡ã¥â€ºâ£ã¥â€ºâ€ºã¥â\\xadâ£', 1005, nan, 100005], ['Luv Lite Massive', 1006, nan, 100006], ['Various', 1010, nan, 100010], ['Â¾ã®â¸â°ã€ãœ Worship', 1011, nan, 100011], ['Rumania Montevideo', 1012, nan, 100012], ['Keedy', 1014, nan, 100015], ['????', 1015, nan, 100016], ['Nature Destroyed', 1018, nan, 100020], ['Dingdong Avanzado', 1020, nan, 100022], ['Variousce Italiennes (disc 1)', 1022, nan, 100025], ['Bernadã¨te Bidã\\xa0ude', 1026, nan, 100029], ['<v8.5e', 1029, nan, 100032], ['Gazebo', 1031, nan, 100035], ['Sportfreunde Stiller', 1033, nan, 100037], ['Rennie Pilgrim Presents', 1034, nan, 100038], ['Various', 1035, nan, 100039], ['Italo House', 1037, nan, 100041], ['Deux', 1038, nan, 100042], ['Various', 1040, nan, 100044], ['Robotika', 1043, nan, 100047], ['Johnny Hallyday', 1045, nan, 100049], ['Ã¤ã®ã«ã¥ã°ã¤ Ã¹ã¬ Ã¤ã¢ã¸ã¥ã¡', 1049, nan, 100054], ['Green Day', 1053, nan, 100058], ['Various', 1055, nan, 100060], ['Various Artists', 1057, nan, 100063], ['Savage', 1058, nan, 100064], ['Atmo Brtschitsch', 1059, nan, 100065], ['Â¿â©ã‡ã\\xa0_â½âºã„ã‰ã„â¡', 1061, nan, 100067], ['Diversetion)', 1062, nan, 100068], ['Les Vamps', 1067, nan, 100073], ['V Rios', 1070, nan, 100076], [\"Leon Siu And David 'kawika' Kahiapo\", 1072, nan, 100078], ['Freikorps', 1073, nan, 100080], ['Detlef Jã¶cker', 1074, nan, 100081], ['Â¼â¼â¹ãœã‡ã‘â¼ã’â¸â® Â±â¹â¾ã‡â¼â±â±â³â´ãœ', 1076, nan, 100083], ['Hana A Petr Ulrychovi', 1077, nan, 100084], ['The Pandanus Club', 1079, nan, 100086], ['Tschou Zã¤me!', 1080, nan, 100087], ['Clive Gregson', 1081, nan, 100088], ['Various Artists', 1082, nan, 100089], ['Paveier', 1085, nan, 100092], ['Johnny Light', 1086, nan, 100093], ['Eleni Moraites', 1091, nan, 100098], ['Fabienne Thibeault', 1092, nan, 100099], ['Varios', 1096, nan, 100103], ['Mary Black', 1097, nan, 100104], ['Arzu', 1098, nan, 100105], ['Indigo Girls', 1100, nan, 100107], ['Indigo Girls', 1101, nan, 100108], ['Gerardo Peã±a', 1107, nan, 100114], ['Stefan Sundstrã¶m', 1109, nan, 100116], ['Lovett, Lyle', 1110, nan, 100117], ['Kisho, Real Selectah', 1111, nan, 100118], ['Ã£?â€¢ã£?â\\xa0ã£?â¾ã£?â€¢ã£?â€”', 1113, nan, 100120], ['Iris', 1114, nan, 100121], ['Lanã§ando As Redes', 1115, nan, 100122], ['Tom Paxton', 1119, nan, 100126], ['Leo Kottke', 1123, nan, 100130], ['Tokio Uchida', 1124, nan, 100131], ['Derecho De Madrid', 1125, nan, 100132], ['All The Best From Russia', 1126, nan, 100133], ['Various Artists', 1128, nan, 100135], ['Joan Baez', 1129, nan, 100136], ['Marianne Kesler', 1130, nan, 100137], ['Josã© Reza', 1132, nan, 100139], ['Liliana Herrero & Juan Falu', 1133, nan, 100140], ['Doe Maar', 1137, nan, 100144], ['Al Bano', 1142, nan, 100149], ['Jim Butke', 1143, nan, 100150], ['Trio Bravo', 1144, nan, 100151], ['Lã©a Mendonã§a', 1145, nan, 100152], ['Pete Seeger & Leon Gieco', 1149, nan, 100156], ['The Cã©ilã\\xad Bandits', 1152, nan, 100159], ['Nylons', 1153, nan, 100160], ['Paddy Reilly', 1154, nan, 100161], ['Various', 1157, nan, 100164], ['Dario Domingues', 1158, nan, 100165], ['Vanja Lazarova Dimitrova', 1160, nan, 100167], ['Alexander Scourby', 1163, nan, 100170], ['The Tear Garden', 1166, nan, 100173], ['Harmonikarice Zupan', 1168, nan, 100175], ['Merle Haggard', 1170, nan, 100177], [\"Stas Bulanda's Average Polka Band\", 1172, nan, 100179], ['Albin Berger', 1173, nan, 100180], ['Various Artists', 1174, nan, 100181], ['Some Like It Hot', 1175, nan, 100182], ['Erich Kunz', 1176, nan, 100183], ['Sam Baardman', 1179, nan, 100186], ['Gem Boy', 1184, nan, 100191], ['Tomaz Pengov', 1186, nan, 100193], ['Danko', 1188, nan, 100195], ['Eko', 1189, nan, 100196], ['Arjan & Efi', 1192, nan, 100200], ['Various Artists', 1193, nan, 100201], ['Evabritt Strandberg', 1197, nan, 100205], ['Andesmanta', 1200, nan, 100208], ['Raza India', 1201, nan, 100209]]\n",
      "-------------------------------------------\n"
     ]
    },
    {
     "name": "stderr",
     "output_type": "stream",
     "text": [
      "Processing rows: 100%|████████████████████████████████████████████| 100/100 [03:11<00:00,  1.92s/it]\n"
     ]
    },
    {
     "name": "stdout",
     "output_type": "stream",
     "text": [
      "Done! num repairs: 50, num not repairable: 0\n",
      "finished chunk: 1\n",
      "[['Men Of Worth', 1205, nan, 100213], ['Betty Elders', 1206, nan, 100214], ['Wild Magnolias', 1207, nan, 100215], ['Amakye Dede', 1209, nan, 100217], ['Various Artists', 1210, nan, 100218], ['Joyas Del Mariachi', 1214, nan, 100223], ['Edith Piaf', 1215, nan, 100224], ['Munter Macher', 1217, nan, 100226], ['Carlos Di Sarli', 1222, nan, 100231], ['Carlos Nunez', 1224, nan, 100233], ['Harald Immig', 1225, nan, 100234], ['The Travelling Jewish Wedding', 1226, nan, 100235], ['One', 1228, nan, 100237], ['Mick Moloney', 1229, nan, 100238], ['Melanie', 1230, nan, 100239], ['Titti Bianchi & Ruggero Scandiuzzi', 1233, nan, 100242], ['Jari Sillanpã¤ã¤', 1235, nan, 100244], ['Bluatschink', 1237, nan, 100246], ['Ibrahim Tatlises', 1238, nan, 100247], ['Wilbury Clan', 1239, nan, 100248], ['Chris Newman And Mã¡ire Nã\\xad Chathasaigh', 1240, nan, 100249], ['Brothers Four', 1242, nan, 100251], ['Various Artists', 1244, nan, 100253], ['After Forever', 1245, nan, 100254], ['Yarkin', 1248, nan, 100257], ['Ghymes', 1251, nan, 100260], ['Pete Nelson', 1252, nan, 100261], ['Autori Vari', 1254, nan, 100263], ['Alan Stivell', 1255, nan, 100264], ['Jill Knight', 1257, nan, 100266], ['Doble R S.S.S.', 1259, nan, 100268], ['R. B. Nicol, R. U. Brown', 1260, nan, 100269], ['Blandade Artister', 1264, nan, 100273], ['Chris Daring', 1265, nan, 100274], ['Don Stanley & Middle Creek', 1267, nan, 100276], ['Ãžã•ã„ã\\uf181ãšã‡ã“_ã‘ã\\uf181ã“ã\\uf18fã•ã‹ã‡ã“_ã„ã‡ãˆã…ã\\uf18d', 1269, nan, 100278], ['Various Artists', 1270, nan, 100279], ['Jorge Negrete', 1271, nan, 100280], ['Sally Ann And Shadymile', 1274, nan, 100283], ['Billy Edd Wheeler & Paul Craft', 1276, nan, 100285], ['Billy Diamond', 1277, nan, 100286], ['Donovan', 1278, nan, 100287], ['Gal Costa', 1283, nan, 100292], ['Emerald Rose', 1285, nan, 100294], ['Judy Collins', 1291, nan, 100300], ['Auscultate', 1294, nan, 100303], ['Adriano Celentano', 1295, nan, 100304], ['Jim Hiscott', 1296, nan, 100306], ['Various Native Artists', 1301, nan, 100311], ['Yang Yi He-erhu', 1303, nan, 100313], ['Inti (jorge Alfaro)', 1307, nan, 100317], ['Jane Siberry', 1308, nan, 100318], ['Ichu', 1311, nan, 100321], [\"Maã±a's\", 1316, nan, 100326], ['Roger Chevrier', 1317, nan, 100327], ['Maria Dimitriadi', 1319, nan, 100329], ['Machitãºn', 1320, nan, 100330], ['Minstrels Of Mayhem', 1323, nan, 100333], ['Andrew Lorand', 1324, nan, 100335], ['Reverend Gary Davis', 1325, nan, 100336], ['Ivan I Vrã¥a', 1329, nan, 100340], ['Elaine De Jesus', 1330, nan, 100341], ['Mush', 1335, nan, 100346], ['Chris & Meredith Thompson', 1336, nan, 100347], ['Obituary', 1337, nan, 100348], ['Benny Neyman', 1339, nan, 100350], ['Mynta', 1340, nan, 100351], ['Chiclete Com Banana', 1341, nan, 100352], ['Bob Dylan', 1343, nan, 100354], ['Hassan Hakmoun', 1344, nan, 100355], ['Leonard Cohen', 1346, nan, 100357], ['Alexander Scourby', 1347, nan, 100358], ['Merel Chiasson', 1348, nan, 100359], ['Hans Mayer', 1349, nan, 100360], ['Thomas & Thomas', 1350, nan, 100361], ['Pedro Messone', 1352, nan, 100363], ['Sadik Gãœrbãœz', 1353, nan, 100364], ['Die Diamanten', 1355, nan, 100366], ['Elfi Reitz', 1356, nan, 100367], [\"Scarlet's Well\", 1359, nan, 100370], ['Heerlijke Hollandse Hits Cd 047', 1364, nan, 100375], ['Halvdan Sivertsen', 1365, nan, 100376], ['Woody Guthrie', 1367, nan, 100378], ['Adriana Landeros', 1369, nan, 100380], ['Rachel Bissex', 1371, nan, 100384], ['Various Artists', 1376, nan, 100389], ['Mannik Grigorian', 1377, nan, 100390], ['Steve Mcdonald', 1378, nan, 100391], ['Rockdrigo Gonzã¡lez', 1379, nan, 100392], ['Ã\\uf19dmsir', 1380, nan, 100393], ['The Horse Flies', 1388, nan, 100401], ['Nanaku Group', 1389, nan, 100402], ['Dobe Newton Et Al', 1390, nan, 100403], ['Kalle Almlã¶f', 1391, nan, 100404], ['Rory Mcleod', 1392, nan, 100405], ['Ãˆ. Ã†ã¥ã«ã\\xa0ã\\xadã\\xadã\\xa0ã¿ Ã¨ Farlanders', 1395, nan, 100408], ['Vig Mihaly', 1397, nan, 100410], ['Rosa Balistreri', 1398, nan, 100411], ['Pete Seeger', 1400, nan, 100413], ['Sestry Steinovy', 1403, nan, 100416]]\n",
      "-------------------------------------------\n"
     ]
    },
    {
     "name": "stderr",
     "output_type": "stream",
     "text": [
      "Processing rows: 100%|████████████████████████████████████████████| 100/100 [03:27<00:00,  2.08s/it]\n"
     ]
    },
    {
     "name": "stdout",
     "output_type": "stream",
     "text": [
      "Done! num repairs: 45, num not repairable: 0\n",
      "finished chunk: 2\n",
      "[['Kazantzidis Stelios', 1404, nan, 100417], ['Massamba', 1408, nan, 100421], ['Ã‚ã«ã\\xa0ã¤ã¨ã¬ã¨ã° Ã‚ã»ã±ã®ã¶ãªã¨ã©', 1409, nan, 100422], ['Highland Weavers/going Home', 1411, nan, 100424], ['Rolando Boldrin', 1412, nan, 100425], ['Belchior', 1414, nan, 100427], ['Tony Conjugacion', 1416, nan, 100429], ['Goran Ivanovic & Fareed Haque', 1421, nan, 100434], ['Despoina Vandi', 1423, nan, 100436], ['David Gray', 1425, nan, 100438], ['Fatih Kisaparmak', 1426, nan, 100439], ['Kanda Bongo Man', 1428, nan, 100441], ['Ãžã«ã¥ã£ Ãšã®ã±ã²ã°ã®ã¢', 1433, nan, 100446], ['Â³â¯â«ã˜â¦~', 1435, nan, 100449], ['Zeleziar', 1436, nan, 100450], ['Various', 1438, nan, 100452], ['Vicente Fernandez', 1440, nan, 100454], ['Lucã\\xada De La Cruz', 1441, nan, 100455], ['Palemiger Spatzen', 1443, nan, 100457], ['Khamisu Khan', 1444, nan, 100458], ['Commonbond', 1445, nan, 100459], ['Kevn Kinney', 1446, nan, 100460], ['Various', 1447, nan, 100461], ['Vujicsics Ensemble', 1454, nan, 100468], ['Juan Perro', 1456, nan, 100470], ['Spailpã\\xadn', 1457, nan, 100471], ['Harry Sheppard', 1463, nan, 100477], ['Heart Of Ireland', 1464, nan, 100478], ['Varios Reggae', 1466, nan, 100480], ['Mare Nostrum', 1468, nan, 100482], ['Various Artist', 1471, nan, 100485], ['Shawn Mullins', 1472, nan, 100486], ['Runrig', 1474, nan, 100488], ['Samy Y Sandra Sandoval', 1476, nan, 100490], ['Marwan Abado & Peter Rosmanith', 1479, nan, 100493], ['Various Artists', 1480, nan, 100494], ['Afrikanische Top Stars', 1481, nan, 100495], ['Gurktaler Musikanten', 1487, nan, 100501], ['Varios', 1488, nan, 100502], ['El Consorcio', 1489, nan, 100503], ['Polkacide', 1491, nan, 100505], ['Various Artists', 1493, nan, 100507], ['Celtic Connection', 1498, nan, 100513], ['Various Artists', 1499, nan, 100514], ['Die Drei Koebesse', 1501, nan, 100516], ['Tuna De Ingenieros De Telecomunicaciã³n De Valencia', 1502, nan, 100517], ['Quilapayãºn', 1503, nan, 100518], ['Fagner', 1504, nan, 100519], ['Diverse', 1505, nan, 100520], ['Gauchos 4', 1508, nan, 100523], [\"Jason O'rouke\", 1509, nan, 100524], ['Judy Collins', 1512, nan, 100527], ['Ã‡ã‘â±â¹ã„ã\\uf181ã†â¼â³ã™ã…â»â½ãœâ¾ã®ã\\uf181ã®', 1515, nan, 100530], ['Mark David Stewartloors', 1516, nan, 100531], ['Dave Gunning', 1520, nan, 100535], ['The Pleasant Hill Singers', 1523, nan, 100538], ['Aca Lukas', 1525, nan, 100540], ['Â¤kã\\uf181nâ¦xâ°ã›', 1527, nan, 100542], ['Tabu Ley', 1528, nan, 100543], ['Roland Utbult', 1534, nan, 100549], ['Stephan Smith', 1537, nan, 100552], ['Los Huertas', 1538, nan, 100553], ['John Mogensen', 1541, nan, 100556], ['Seekers', 1542, nan, 100557], ['Ã\\uf190ã®ã¬ã\\xa0ã\\xad Ã’ã°ã\\xa0ãµã²ã¥ã\\xadã¡ã¥ã°ã£', 1543, nan, 100558], ['Houghton Weavers', 1545, nan, 100560], ['Tolcsvay Bã©la', 1546, nan, 100563], ['Sondre Bratland', 1547, nan, 100564], ['Los Alfonso', 1551, nan, 100568], ['Compilation', 1552, nan, 100569], ['Variuos', 1553, nan, 100570], ['Ballycotton', 1554, nan, 100571], ['Rembetika', 1556, nan, 100573], ['Flunk', 1557, nan, 100574], ['Juliette Greco', 1558, nan, 100575], ['Okay Temiz', 1559, nan, 100576], ['Ã”ã¨ã«ã¨ã¯ã¯ Ãšã¨ã°ãªã®ã°ã®ã¢', 1560, nan, 100577], ['J.P. Cormier', 1564, nan, 100581], [\"Renzo Arbore E L'orchestra Italiana\", 1569, nan, 100586], ['Owl & The Pussycat', 1574, nan, 100591], ['Will Tura', 1575, nan, 100592], ['David Shepherd', 1576, nan, 100593], ['Bregenzerwã¤lder Dorfmusikanten', 1581, nan, 100598], ['Dizionario Della Canzone Italiana', 1586, nan, 100604], ['The Champions 1994', 1589, nan, 100607], ['Dominguinhos', 1590, nan, 100608], ['Die Krupps', 1592, nan, 10061], ['Talleys', 1593, nan, 100610], ['Acanto', 1594, nan, 100611], ['Dervish', 1595, nan, 100612], ['Geantrai', 1596, nan, 100614], ['Boogart', 1597, nan, 100615], ['Folk Scat', 1601, nan, 100619], ['Josã¨ Feliciano', 1602, nan, 100620], ['Peggy Watson', 1604, nan, 100623], ['Lindsay And Gowan', 1606, nan, 100625], ['Saddleback Church', 1607, nan, 100626], ['The Pentangle', 1608, nan, 100627], ['Meiway', 1611, nan, 100630], ['The Irish Brigade', 1612, nan, 100631]]\n",
      "-------------------------------------------\n"
     ]
    },
    {
     "name": "stderr",
     "output_type": "stream",
     "text": [
      "Processing rows: 100%|████████████████████████████████████████████| 100/100 [03:12<00:00,  1.93s/it]\n"
     ]
    },
    {
     "name": "stdout",
     "output_type": "stream",
     "text": [
      "Done! num repairs: 50, num not repairable: 0\n",
      "finished chunk: 3\n",
      "[['Carlos Nãºã±ez', 1615, nan, 100634], ['Diary Of Dreams', 1619, nan, 100639], ['Peter White', 1620, nan, 10064], ['Flatt & Scruggs', 1623, nan, 100642], ['Various Artists', 1625, nan, 100644], ['Big Timber Bluegrass', 1626, nan, 100645], ['Varios', 1629, nan, 100648], ['Austria 7', 1631, nan, 100650], ['Le Mystã¨re Des Voix Bulgares', 1632, nan, 100651], ['Sing & Learn Vol1', 1634, nan, 100653], ['Kjarkas', 1635, nan, 100654], ['Various Artists', 1636, nan, 100655], ['German Hofmann', 1637, nan, 100656], ['Mama La Terre', 1638, nan, 100657], ['Lechner Buam', 1641, nan, 100660], ['Ann Reed', 1643, nan, 100662], ['Basia Frydman', 1644, nan, 100663], ['Lena Teigen', 1645, nan, 100664], ['David Francey', 1647, nan, 100666], ['Terje Tysland', 1648, nan, 100667], ['Schrammel & Slide', 1649, nan, 100668], ['Horst Chmela', 1650, nan, 100669], ['Moving Cloud', 1654, nan, 100673], ['Florie Brown', 1655, nan, 100674], ['Mexicanto', 1656, nan, 100675], ['Toquinho', 1658, nan, 100677], ['Brian Joens', 1659, nan, 100678], ['Keith Hancock', 1662, nan, 100681], ['Juan Manuel Serrat', 1663, nan, 100682], ['Oliver Schroer', 1665, nan, 100684], ['Ionatos', 1666, nan, 100685], ['Sã¡ & Guarabyra - Ao Vivo', 1669, nan, 100688], ['Dangaa Khosbayar', 1670, nan, 100689], ['Dertum', 1671, nan, 100690], ['Matrix', 1673, nan, 100692], ['Various', 1675, nan, 100694], ['Harry Chapin', 1676, nan, 100695], ['Alan Lomax', 1679, nan, 100698], ['Various', 1682, nan, 100701], ['Golden Gate Quartet', 1683, nan, 100702], ['Fairport Convention', 1684, nan, 100703], ['Seemanns-chor \\\\elbe1\\\\', 1685, nan, 100704], ['Cesarice', 1687, nan, 100706], ['Ã„ã©ãœã¶ã¯ã±ã¯ã©', 1689, nan, 100708], ['Kate & Anna Mcgarrigle', 1696, nan, 100715], ['The Electrics', 1700, nan, 100719], ['Alejandro Fatur', 1702, nan, 100721], ['Zillertaler Schã¼rzenjã¤ger', 1703, nan, 100722], ['The Rockefellas', 1704, nan, 100723], ['Crannog', 1707, nan, 100727], ['Various Artists', 1712, nan, 100732], ['Caribe', 1715, nan, 100735], ['Allison With One', 1718, nan, 100738], ['Various Artists', 1719, nan, 100739], ['Jack Johnson', 1720, nan, 100740], ['Die Jungen Klostertaler', 1723, nan, 100743], ['Jimmy Sturr', 1724, nan, 100744], ['Rafa Almarcha', 1726, nan, 100746], ['Jan Larsen', 1727, nan, 100747], ['Jesed', 1728, nan, 100748], ['Skylark', 1729, nan, 100749], ['Duo Balance', 1730, nan, 100750], ['Os Morenos', 1742, nan, 100762], ['Keller Williams', 1743, nan, 100763], ['Laurie Geltman', 1747, nan, 100768], ['Galadriel', 1748, nan, 100769], ['Sempre Noi', 1750, nan, 100771], ['Various Artists', 1751, nan, 100773], ['Jewel', 1752, nan, 100774], ['Various Artists', 1757, nan, 100780], ['Gavino Y La Sombra', 1764, nan, 100787], ['Laurence Nugent', 1768, nan, 100791], ['Various', 1770, nan, 100793], ['Inca Sapi', 1771, nan, 100794], ['The Divers', 1772, nan, 100795], ['Lynn Miles', 1775, nan, 100798], ['Federico Sirianni & Molotov Orchestra', 1778, nan, 100801], ['Mo Leverett', 1780, nan, 100803], ['Basia Szarek', 1784, nan, 100807], ['The Ecclestons', 1790, nan, 100813], ['Stephen Fearing', 1793, nan, 100817], ['Bob Dylan', 1794, nan, 100818], ['Blair Douglas', 1795, nan, 100819], ['Kris Kehr And Stone Poets', 1797, nan, 100821], ['Ceoltiri Loch Lao', 1801, nan, 100825], ['Gheorghe Zamfir & Marcel Cellier Orgue (1/2)', 1802, nan, 100826], ['Mahotella Queens Feat. Joe Nina', 1807, nan, 100831], ['Various', 1808, nan, 100832], ['Billie Holiday', 1813, nan, 100837], ['Count Basie', 1814, nan, 100838], ['Various', 1815, nan, 100839], ['The Tovy Meshoulam Trombone Quartet', 1817, nan, 100841], ['Glenn Miller Orchestra Directed By Wil Salden', 1818, nan, 100842], ['Ken Navarro', 1820, nan, 100844], ['Evan Marks', 1821, nan, 100845], ['Ken Watson', 1823, nan, 100847], ['Various Artists', 1827, nan, 100850], ['Dinah Washington', 1828, nan, 100851], ['Fay Claassen', 1829, nan, 100852], ['Chayanne', 1832, nan, 100855]]\n",
      "-------------------------------------------\n"
     ]
    },
    {
     "name": "stderr",
     "output_type": "stream",
     "text": [
      "Processing rows:  61%|███████████████████████████▍                 | 61/100 [01:38<01:03,  1.62s/it]\n"
     ]
    },
    {
     "ename": "KeyboardInterrupt",
     "evalue": "",
     "output_type": "error",
     "traceback": [
      "\u001b[1;31m---------------------------------------------------------------------------\u001b[0m",
      "\u001b[1;31mKeyboardInterrupt\u001b[0m                         Traceback (most recent call last)",
      "Cell \u001b[1;32mIn[21], line 4\u001b[0m\n\u001b[0;32m      2\u001b[0m itr \u001b[39m=\u001b[39m \u001b[39m0\u001b[39m\n\u001b[0;32m      3\u001b[0m \u001b[39mfor\u001b[39;00m chunk \u001b[39min\u001b[39;00m cddb_list_chunks:\n\u001b[1;32m----> 4\u001b[0m     start_repair(chunk, tracks_list)\n\u001b[0;32m      5\u001b[0m     \u001b[39mprint\u001b[39m(\u001b[39m\"\u001b[39m\u001b[39mfinished chunk: \u001b[39m\u001b[39m\"\u001b[39m \u001b[39m+\u001b[39m \u001b[39mstr\u001b[39m(itr))\n\u001b[0;32m      6\u001b[0m     \u001b[39mprint\u001b[39m(chunk)\n",
      "Cell \u001b[1;32mIn[20], line 44\u001b[0m, in \u001b[0;36mstart_repair\u001b[1;34m(cd_list, tracks_list)\u001b[0m\n\u001b[0;32m     33\u001b[0m \u001b[39m# old code\u001b[39;00m\n\u001b[0;32m     34\u001b[0m \u001b[39m#for _, track_row in enumerate(tracks_for_album):\u001b[39;00m\n\u001b[0;32m     35\u001b[0m \u001b[39m#    song_name = track_row['Name']\u001b[39;00m\n\u001b[1;32m   (...)\u001b[0m\n\u001b[0;32m     40\u001b[0m \u001b[39m#        num_repairs += 1\u001b[39;00m\n\u001b[0;32m     41\u001b[0m \u001b[39m#        break # we found one we are clean\u001b[39;00m\n\u001b[0;32m     43\u001b[0m \u001b[39mfor\u001b[39;00m track \u001b[39min\u001b[39;00m tracks_for_album:\n\u001b[1;32m---> 44\u001b[0m     fix \u001b[39m=\u001b[39m get_song_release_year(track, artist_name)\n\u001b[0;32m     45\u001b[0m     \u001b[39mif\u001b[39;00m fix:\n\u001b[0;32m     46\u001b[0m         \u001b[39m# print(f'{artist_name} ---- {song_name} ---- {fix}')\u001b[39;00m\n\u001b[0;32m     47\u001b[0m         \u001b[39m# cddb_row[2] = fix\u001b[39;00m\n\u001b[0;32m     48\u001b[0m         num_repairs \u001b[39m+\u001b[39m\u001b[39m=\u001b[39m \u001b[39m1\u001b[39m\n",
      "Cell \u001b[1;32mIn[3], line 2\u001b[0m, in \u001b[0;36mget_song_release_year\u001b[1;34m(song_name, artist_name)\u001b[0m\n\u001b[0;32m      1\u001b[0m \u001b[39mdef\u001b[39;00m \u001b[39mget_song_release_year\u001b[39m(song_name, artist_name):\n\u001b[1;32m----> 2\u001b[0m     sleep(\u001b[39m.5\u001b[39;49m)\n\u001b[0;32m      3\u001b[0m     \u001b[39m# Search for the song\u001b[39;00m\n\u001b[0;32m      4\u001b[0m     \u001b[39m# trying this search for faster queries hopefully\u001b[39;00m\n\u001b[0;32m      5\u001b[0m     \u001b[39m# search(q, limit=10, offset=0, type='track', market=None)\u001b[39;00m\n\u001b[0;32m      6\u001b[0m     \u001b[39m# let q = String.init(format:\"artist:%@ track:%@\",artistName,trackName)\u001b[39;00m\n\u001b[0;32m      7\u001b[0m     \u001b[39m# https://stackoverflow.com/questions/42766000/spotipy-how-do-i-search-by-both-artist-and-song\u001b[39;00m\n\u001b[0;32m      8\u001b[0m     q \u001b[39m=\u001b[39m \u001b[39m\"\u001b[39m\u001b[39martist:\u001b[39m\u001b[39m{}\u001b[39;00m\u001b[39m track:\u001b[39m\u001b[39m{}\u001b[39;00m\u001b[39m\"\u001b[39m\u001b[39m.\u001b[39mformat(artist_name, song_name)\n",
      "\u001b[1;31mKeyboardInterrupt\u001b[0m: "
     ]
    }
   ],
   "source": [
    "# attemp to write output every 100 fixes \n",
    "itr = 0\n",
    "for chunk in cddb_list_chunks:\n",
    "    chunk = start_repair(chunk, tracks_list)\n",
    "    print(\"finished chunk: \" + str(itr))\n",
    "    print(\"repaired songs: \" + chunk)\n",
    "    cddb_df.to_csv('../../cleaning_stages/4_year_repair/cddb_3.tsv', sep=\"\\t\", index=False)\n",
    "    itr = itr + 1\n",
    "   "
   ]
  },
  {
   "cell_type": "code",
   "execution_count": null,
   "id": "f58d27ee",
   "metadata": {},
   "outputs": [],
   "source": [
    "# cddb_df[['artist', 'tracks', 'year']]\n",
    "# cddb_df[[0, 1, 2]]\n",
    "\n",
    "# tracks_df[['id', 'album id', 'name']]\n",
    "# tracks_df[[0, 1, 2]]\n",
    "\n",
    "# data.at[6,'NAME']='Safa'\n",
    "# df.index[df['BoolCol']].tolist()"
   ]
  },
  {
   "cell_type": "code",
   "execution_count": null,
   "id": "bb21d8c0",
   "metadata": {},
   "outputs": [],
   "source": []
  }
 ],
 "metadata": {
  "kernelspec": {
   "display_name": "Python 3 (ipykernel)",
   "language": "python",
   "name": "python3"
  },
  "language_info": {
   "codemirror_mode": {
    "name": "ipython",
    "version": 3
   },
   "file_extension": ".py",
   "mimetype": "text/x-python",
   "name": "python",
   "nbconvert_exporter": "python",
   "pygments_lexer": "ipython3",
   "version": "3.9.16"
  }
 },
 "nbformat": 4,
 "nbformat_minor": 5
}
