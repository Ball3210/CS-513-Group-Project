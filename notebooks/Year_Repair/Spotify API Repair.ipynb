{
 "cells": [
  {
   "cell_type": "code",
   "execution_count": 1,
   "id": "7596804e",
   "metadata": {},
   "outputs": [
    {
     "name": "stdout",
     "output_type": "stream",
     "text": [
      "hi\n"
     ]
    }
   ],
   "source": [
    "import json\n",
    "import spotipy\n",
    "from spotipy.oauth2 import SpotifyClientCredentials\n",
    "\n",
    "creds = None\n",
    "with open('../../secret.json') as creds_file:\n",
    "    creds = json.load(creds_file)\n",
    "\n",
    "\n",
    "# Set up the Spotify client\n",
    "client_credentials_manager = SpotifyClientCredentials(client_id=creds['client_id'], client_secret=creds['client_secret'])\n",
    "sp = spotipy.Spotify(client_credentials_manager=client_credentials_manager)\n",
    "\n",
    "print('hi')\n"
   ]
  },
  {
   "cell_type": "code",
   "execution_count": 2,
   "id": "9d37435d",
   "metadata": {},
   "outputs": [],
   "source": [
    "# import time\n",
    "# \n",
    "# artist_name = \"Linkin Park\"\n",
    "# song_name = \"Breaking the Habit\"\n",
    "# \n",
    "# try:\n",
    "#     result = sp.search(q=f'track:{song_name} artist:{artist_name}', type='track')\n",
    "#     print(result)\n",
    "# except spotipy.SpotifyException as e:\n",
    "#     print(f\"An error occurred: {e}\")\n",
    "# finally:\n",
    "#     # Introduce a delay between requests (e.g., 1 second)\n",
    "#     time.sleep(1)\n"
   ]
  },
  {
   "cell_type": "code",
   "execution_count": 3,
   "id": "f6641fd1",
   "metadata": {},
   "outputs": [],
   "source": [
    "import time\n",
    "\n",
    "def get_song_release_year(song_name, artist_name):\n",
    "    time.sleep(1)\n",
    "    # Search for the song\n",
    "    results = sp.search(q=f'track:{song_name} artist:{artist_name}', type='track', limit=1)\n",
    "\n",
    "    # Extract the release year from the first search result\n",
    "    if len(results['tracks']['items']) > 0:\n",
    "        release_date = results['tracks']['items'][0]['album']['release_date']\n",
    "        release_year = release_date.split('-')[0]\n",
    "        return release_year\n",
    "\n",
    "    # Return None if no results were found\n",
    "    return None"
   ]
  },
  {
   "cell_type": "code",
   "execution_count": null,
   "id": "5b8a0983",
   "metadata": {},
   "outputs": [],
   "source": [
    "artist_name = \"Linkin Park\"\n",
    "song_name = \"Breaking the Habit\"\n",
    "try:\n",
    "    print(get_song_release_year(song_name, artist_name))\n",
    "except Exception as e:\n",
    "    print(str(e))\n",
    "\n"
   ]
  },
  {
   "cell_type": "code",
   "execution_count": null,
   "id": "da2120d9",
   "metadata": {},
   "outputs": [],
   "source": [
    "import pandas as pd\n",
    "from time import sleep\n",
    "from tqdm import tqdm\n",
    "\n",
    "cddb_df = pd.read_csv('../../cleaning_stages/3_category_genre/cddb_2.tsv', sep='\\t')\n",
    "tracks_df = pd.read_csv('../../cleaning_stages/3_category_genre/cddb_tracks.tsv', sep='\\t')\n",
    "\n",
    "cddb_df = cddb_df[cddb_df['year'].isnull()]\n",
    "cddb_df = cddb_df[['artist', 'tracks', 'year']]\n",
    "\n",
    "print(f'num null years: ${len(cddb_df)}')\n",
    "\n",
    "def start_repair():\n",
    "    num_repairs = 0\n",
    "    num_not_repairable = 0\n",
    "    \n",
    "    total_rows = len(cddb_df)\n",
    "    for _, cddb_row in tqdm(cddb_df.iterrows(), total=total_rows, desc='Processing rows', ncols=100):\n",
    "        \n",
    "        artist_name = cddb_row['artist']\n",
    "\n",
    "        # Grab the first song of the track\n",
    "        tracks_for_album = tracks_df[tracks_df['Album Id'] == cddb_row['tracks']]\n",
    "        \n",
    "        if tracks_for_album.empty:\n",
    "            # No song for track something is wrong\n",
    "            # print('TOSS: ' + str(cddb_row['id']) + ' ---- ' + artist_name)\n",
    "            num_not_repairable += 1\n",
    "            continue\n",
    "        \n",
    "        for _, track_row in tracks_for_album.iterrows():\n",
    "            song_name = track_row['Name']\n",
    "            fix = get_song_release_year(song_name, artist_name)\n",
    "            sleep(1)\n",
    "            if fix:\n",
    "                # print(f'{artist_name} ---- {song_name} ---- {fix}')\n",
    "                cddb_row['year'] = fix\n",
    "                num_repairs += 1\n",
    "                break # we found one we are clean\n",
    "        \n",
    "    print(f'Done! num repairs: {num_repairs}, num not repairable: {num_not_repairable}')\n",
    "# start_repair()\n",
    "    "
   ]
  },
  {
   "cell_type": "code",
   "execution_count": null,
   "id": "ca4ea05c",
   "metadata": {},
   "outputs": [],
   "source": []
  }
 ],
 "metadata": {
  "kernelspec": {
   "display_name": "Python 3 (ipykernel)",
   "language": "python",
   "name": "python3"
  },
  "language_info": {
   "codemirror_mode": {
    "name": "ipython",
    "version": 3
   },
   "file_extension": ".py",
   "mimetype": "text/x-python",
   "name": "python",
   "nbconvert_exporter": "python",
   "pygments_lexer": "ipython3",
   "version": "3.11.4"
  }
 },
 "nbformat": 4,
 "nbformat_minor": 5
}
