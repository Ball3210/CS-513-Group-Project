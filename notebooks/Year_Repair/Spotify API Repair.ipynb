{
 "cells": [
  {
   "cell_type": "code",
   "execution_count": 1,
   "id": "7596804e",
   "metadata": {},
   "outputs": [
    {
     "name": "stdout",
     "output_type": "stream",
     "text": [
      "hi\n",
      "<spotipy.client.Spotify object at 0x00000162FB361F10>\n"
     ]
    }
   ],
   "source": [
    "import json\n",
    "import spotipy\n",
    "from spotipy.oauth2 import SpotifyClientCredentials\n",
    "import time\n",
    "import pandas as pd\n",
    "from time import sleep\n",
    "from tqdm import tqdm\n",
    "\n",
    "\n",
    "creds = None\n",
    "with open('../../secret.json') as creds_file:\n",
    "    creds = json.load(creds_file)\n",
    "\n",
    "\n",
    "# Set up the Spotify client\n",
    "client_credentials_manager = SpotifyClientCredentials(client_id=creds['client_id'], client_secret=creds['client_secret'])\n",
    "sp = spotipy.Spotify(client_credentials_manager=client_credentials_manager)\n",
    "\n",
    "print('hi')\n",
    "print(sp)\n"
   ]
  },
  {
   "cell_type": "code",
   "execution_count": 2,
   "id": "9d37435d",
   "metadata": {},
   "outputs": [],
   "source": [
    "# import time\n",
    "# \n",
    "# artist_name = \"Linkin Park\"\n",
    "# song_name = \"Breaking the Habit\"\n",
    "# \n",
    "# try:\n",
    "#     result = sp.search(q=f'track:{song_name} artist:{artist_name}', type='track')\n",
    "#     print(result)\n",
    "# except spotipy.SpotifyException as e:\n",
    "#     print(f\"An error occurred: {e}\")\n",
    "# finally:\n",
    "#     # Introduce a delay between requests (e.g., 1 second)\n",
    "#     time.sleep(1)\n"
   ]
  },
  {
   "cell_type": "code",
   "execution_count": 3,
   "id": "f6641fd1",
   "metadata": {},
   "outputs": [],
   "source": [
    "def get_song_release_year(song_name, artist_name):\n",
    "    sleep(.5)\n",
    "    # Search for the song\n",
    "    # trying this search for faster queries hopefully\n",
    "    # search(q, limit=10, offset=0, type='track', market=None)\n",
    "    # let q = String.init(format:\"artist:%@ track:%@\",artistName,trackName)\n",
    "    # https://stackoverflow.com/questions/42766000/spotipy-how-do-i-search-by-both-artist-and-song\n",
    "    q = \"artist:{} track:{}\".format(artist_name, song_name)\n",
    "    results = sp.search(q, limit=1, offset=0, type='track', market=None)\n",
    "\n",
    "    # Extract the release year from the first search result\n",
    "    if len(results['tracks']['items']) > 0:\n",
    "        release_date = results['tracks']['items'][0]['album']['release_date']\n",
    "        release_year = release_date.split('-')[0]\n",
    "        return release_year\n",
    "    else:\n",
    "        # Return None if no results were found\n",
    "        return None"
   ]
  },
  {
   "cell_type": "code",
   "execution_count": 6,
   "id": "5b8a0983",
   "metadata": {},
   "outputs": [],
   "source": [
    "artist_name = \"Linkin Park\"\n",
    "song_name = \"Breaking the Habit\"\n",
    "try:\n",
    "    print(get_song_release_year(song_name, artist_name))\n",
    "except Exception as e:\n",
    "    print(str(e))\n",
    "\n"
   ]
  },
  {
   "cell_type": "code",
   "execution_count": 17,
   "id": "3b607014",
   "metadata": {},
   "outputs": [],
   "source": [
    "cddb_df = pd.read_csv('../../cleaning_stages/3_category_genre/cddb_2.tsv', sep='\\t')\n",
    "tracks_df = pd.read_csv('../../cleaning_stages/3_category_genre/cddb_tracks.tsv', sep='\\t')\n",
    "\n",
    "# not updating tracks here so can save to next cleaning stage\n",
    "tracks_df.to_csv('../../cleaning_stages/4_year_repair/cddb_tracks.tsv', sep=\"\\t\", index=False)\n",
    "\n",
    "cddb_df_trim = cddb_df[cddb_df['year'].isnull()]\n",
    "cddb_df_trim = cddb_df_trim[['artist', 'tracks', 'year', 'id']]"
   ]
  },
  {
   "cell_type": "code",
   "execution_count": 18,
   "id": "ad550b6c",
   "metadata": {},
   "outputs": [
    {
     "name": "stdout",
     "output_type": "stream",
     "text": [
      "num null years: $4532\n"
     ]
    }
   ],
   "source": [
    "# lists are much faster than dataframes, converting\n",
    "cddb_list = cddb_df_trim.values.tolist()\n",
    "tracks_list = tracks_df.values.tolist()\n",
    "\n",
    "print(f'num null years: ${len(cddb_list)}')"
   ]
  },
  {
   "cell_type": "code",
   "execution_count": 19,
   "id": "2522aadc",
   "metadata": {},
   "outputs": [
    {
     "name": "stdout",
     "output_type": "stream",
     "text": [
      "46\n"
     ]
    }
   ],
   "source": [
    "# list should have \n",
    "n = 100\n",
    "   \n",
    "# using list comprehension \n",
    "cddb_list_chunks = [cddb_list[i:i + n] for i in range(0, len(cddb_list), n)] \n",
    "print(len(cddb_list_chunks))"
   ]
  },
  {
   "cell_type": "code",
   "execution_count": 20,
   "id": "da2120d9",
   "metadata": {},
   "outputs": [],
   "source": [
    "def start_repair(cd_list, tracks_list):\n",
    "    num_repairs = 0\n",
    "    num_not_repairable = 0\n",
    "    \n",
    "    total_rows = len(cd_list)\n",
    "    for cddb_row in tqdm(cd_list, total=total_rows, desc='Processing rows', ncols=100):\n",
    "    #for cddb_row in cd_list:\n",
    "  \n",
    "        artist_name = cddb_row[0]\n",
    "        album_id = cddb_row[1]\n",
    "\n",
    "        # Grab the tracks for this album\n",
    "        tracks_for_album = []\n",
    "        for row in tracks_list:\n",
    "            if row[1] == album_id:\n",
    "                tracks_for_album.append(row[2])\n",
    "            # stop iterating if album id is greater\n",
    "            elif row[1] > int(album_id):\n",
    "                break\n",
    "                \n",
    "        # tracks_for_album = tracks_df[tracks_df['Album Id'] == cddb_row['tracks']]\n",
    "        \n",
    "        if len(tracks_for_album) == 0:\n",
    "            # No song for track something is wrong\n",
    "            # print('TOSS: ' + str(cddb_row['id']) + ' ---- ' + artist_name)\n",
    "            num_not_repairable += 1\n",
    "            cd_list.remove(cddb_row)\n",
    "            continue\n",
    "        elif len(tracks_for_album) >= 5:\n",
    "            # if first 5 songs fail then odds are the whole row fill fail\n",
    "            tracks_for_album = tracks_for_album[:5]\n",
    "        \n",
    "        # old code\n",
    "        #for _, track_row in enumerate(tracks_for_album):\n",
    "        #    song_name = track_row['Name']\n",
    "        #    fix = get_song_release_year(song_name, artist_name)\n",
    "        #    if fix:\n",
    "        #        # print(f'{artist_name} ---- {song_name} ---- {fix}')\n",
    "        #        cddb_row['year'] = fix\n",
    "        #        num_repairs += 1\n",
    "        #        break # we found one we are clean\n",
    "        \n",
    "        for track in tracks_for_album:\n",
    "            fix = get_song_release_year(track, artist_name)\n",
    "            if fix:\n",
    "                # print(f'{artist_name} ---- {song_name} ---- {fix}')\n",
    "                # cddb_row[2] = fix\n",
    "                num_repairs += 1\n",
    "                # update cddb_df directly\n",
    "                idx_list = cddb_df.index[cddb_df['id'] == cddb_row[3]].tolist()\n",
    "                idx = idx_list[0]\n",
    "                cddb_df.at[idx,'year'] = fix\n",
    "                break # we found one we are clean\n",
    "        \n",
    "    print(f'Done! num repairs: {num_repairs}, num not repairable: {num_not_repairable}')\n",
    "    return cd_list\n",
    "    "
   ]
  },
  {
   "cell_type": "code",
   "execution_count": 21,
   "id": "ca4ea05c",
   "metadata": {},
   "outputs": [
    {
     "name": "stderr",
     "output_type": "stream",
     "text": [
      "Processing rows:   6%|██▊                                           | 6/100 [00:13<04:00,  2.56s/it]"
     ]
    }
   ],
   "source": [
    "# attemp to write output every 100 fixes \n",
    "itr = 0\n",
    "for chunk in cddb_list_chunks:\n",
    "    start_repair(chunk, tracks_list)\n",
    "    print(\"finished chunk: \" + str(itr))\n",
    "    print(chunk)\n",
    "    print(\"-------------------------------------------\")\n",
    "    cddb_df.to_csv('../../cleaning_stages/4_year_repair/cddb_3.tsv', sep=\"\\t\", index=False)\n",
    "    itr = itr + 1\n",
    "   "
   ]
  },
  {
   "cell_type": "code",
   "execution_count": null,
   "id": "f58d27ee",
   "metadata": {},
   "outputs": [],
   "source": [
    "# cddb_df[['artist', 'tracks', 'year']]\n",
    "# cddb_df[[0, 1, 2]]\n",
    "\n",
    "# tracks_df[['id', 'album id', 'name']]\n",
    "# tracks_df[[0, 1, 2]]\n",
    "\n",
    "# data.at[6,'NAME']='Safa'\n",
    "# df.index[df['BoolCol']].tolist()"
   ]
  },
  {
   "cell_type": "code",
   "execution_count": null,
   "id": "bb21d8c0",
   "metadata": {},
   "outputs": [],
   "source": []
  }
 ],
 "metadata": {
  "kernelspec": {
   "display_name": "Python 3 (ipykernel)",
   "language": "python",
   "name": "python3"
  },
  "language_info": {
   "codemirror_mode": {
    "name": "ipython",
    "version": 3
   },
   "file_extension": ".py",
   "mimetype": "text/x-python",
   "name": "python",
   "nbconvert_exporter": "python",
   "pygments_lexer": "ipython3",
   "version": "3.9.16"
  }
 },
 "nbformat": 4,
 "nbformat_minor": 5
}
