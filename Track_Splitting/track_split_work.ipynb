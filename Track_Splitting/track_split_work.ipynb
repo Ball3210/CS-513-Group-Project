{
 "cells": [
  {
   "cell_type": "markdown",
   "metadata": {},
   "source": [
    "## Getting Data to work with."
   ]
  },
  {
   "cell_type": "code",
   "execution_count": 3,
   "metadata": {},
   "outputs": [
    {
     "name": "stdout",
     "output_type": "stream",
     "text": [
      "                              artist category       genre   \n",
      "0                    Backstreet Boys    blues         Pop  \\\n",
      "1                            Various     data         NaN   \n",
      "2                          NO RETURN     data        Data   \n",
      "3         Ã¤Â¸Â­Ã¦?â€˜Ã©â€ºâ€¦Ã¤Â¿Å      data         Pop   \n",
      "4                            Emanuel     data        Data   \n",
      "...                              ...      ...         ...   \n",
      "9758  Various Artists - Notting Hill    blues  Soundtrack   \n",
      "9759                          Lenine    blues       Samba   \n",
      "9760                      Ben Harper    blues       Blues   \n",
      "9761                       Alvin Lee    blues       Blues   \n",
      "9762                 Manuel Barrueco    blues        Jazz   \n",
      "\n",
      "                                             title   \n",
      "0                                       Millennium  \\\n",
      "1                     Frankfurt Trance Vol. 04 cd1   \n",
      "2                                  Self Mutilation   \n",
      "3     Ã¦Æ’Â³Ã£?â€žÃ¥â€¡ÂºÃ£?Â®Ã£?â€¹Ã£?â€˜Ã£â€šâ€°   \n",
      "4                                       Felicidade   \n",
      "...                                            ...   \n",
      "9758                                  Notting Hill   \n",
      "9759                                    Na Pressao   \n",
      "9760                              The will to live   \n",
      "9761                            I Hear You Rockin'   \n",
      "9762                                 Nylon & Steel   \n",
      "\n",
      "                                                 tracks  year      id   \n",
      "0     Larger Than Life | I Want It That Way | Show M...   NaN   10000  \\\n",
      "1     DJ Tom Stevens VS. Fridge - Outface 2000 (Radi...   NaN  100001   \n",
      "2     Do or Die | Truth and Reality | Lost | Soul Ex...   NaN  100002   \n",
      "3     Ã§â€ºâ€ Ã¥Â¸Â°Ã£â€šÅ  | Ã£?â€žÃ£?Â¤Ã£?â€¹Ã¨Â¡â...  1989  100003   \n",
      "4     Felicidade quando o telefone toca | Vem bailar...  1998  100004   \n",
      "...                                                 ...   ...     ...   \n",
      "9758  Another Level / From The Heart | Ronan Keating...  1999    9838   \n",
      "9759  Soul Brasileiro | Na Pressao | Pacienca | Meua...   NaN    9863   \n",
      "9760  Faded | Homeless Child | Number Three | Roses ...  1997    9868   \n",
      "9761  Keep On Rockin' | Long Legs | I Hear You Knock...  1993    9876   \n",
      "9762  Manuel Barrueco / Odeon | Manuel Barrueco, Al ...  2001    9969   \n",
      "\n",
      "      merged_values  \n",
      "0               NaN  \n",
      "1               NaN  \n",
      "2               NaN  \n",
      "3               NaN  \n",
      "4               NaN  \n",
      "...             ...  \n",
      "9758            NaN  \n",
      "9759            NaN  \n",
      "9760            NaN  \n",
      "9761            NaN  \n",
      "9762            NaN  \n",
      "\n",
      "[9763 rows x 8 columns]\n"
     ]
    }
   ],
   "source": [
    "import numpy as np\n",
    "import pandas as pd\n",
    " \n",
    "\n",
    "data = pd.read_csv('../pristine/cddb.tsv', sep='\\t')\n",
    " \n",
    "# printing data\n",
    "print(data)"
   ]
  },
  {
   "cell_type": "markdown",
   "metadata": {},
   "source": [
    "## Create Tracks Table (Dictionary for now)"
   ]
  },
  {
   "cell_type": "code",
   "execution_count": 6,
   "metadata": {},
   "outputs": [],
   "source": [
    "Tracks_Dict = {}\n",
    "Tracks_id_counter = 0\n",
    "New_Track_id_counter = 1000"
   ]
  },
  {
   "cell_type": "markdown",
   "metadata": {},
   "source": [
    "## Iterate through table"
   ]
  },
  {
   "cell_type": "code",
   "execution_count": 8,
   "metadata": {},
   "outputs": [],
   "source": [
    "for i, row in data.iterrows():\n",
    "    # 1. get string from tracks table to track_str\n",
    "    \n",
    "    # 2. split track_str by \"|\"\n",
    "    \n",
    "    # 3. keep only split str that are not blank for now\n",
    "    \n",
    "    # 4. add dictionary elements from split to Tracks_Dict (Tracks_id_counter, new_track_Id, split_str)\n",
    "    \n",
    "    # 5. increment counters - Tracks_id_counter, New_Track_id_counter\n",
    "    \n",
    "    # 6. update row Tracks value to be new_track_Id\n",
    "    pass\n",
    "    \n"
   ]
  },
  {
   "cell_type": "markdown",
   "metadata": {},
   "source": [
    "## Convert dictonary to dataframe"
   ]
  },
  {
   "cell_type": "code",
   "execution_count": null,
   "metadata": {},
   "outputs": [],
   "source": []
  },
  {
   "cell_type": "markdown",
   "metadata": {},
   "source": [
    "## Export both dataframe objects to tsv files (or csv)"
   ]
  },
  {
   "cell_type": "code",
   "execution_count": null,
   "metadata": {},
   "outputs": [],
   "source": []
  }
 ],
 "metadata": {
  "kernelspec": {
   "display_name": "Python 3 (ipykernel)",
   "language": "python",
   "name": "python3"
  },
  "language_info": {
   "codemirror_mode": {
    "name": "ipython",
    "version": 3
   },
   "file_extension": ".py",
   "mimetype": "text/x-python",
   "name": "python",
   "nbconvert_exporter": "python",
   "pygments_lexer": "ipython3",
   "version": "3.9.16"
  }
 },
 "nbformat": 4,
 "nbformat_minor": 2
}
