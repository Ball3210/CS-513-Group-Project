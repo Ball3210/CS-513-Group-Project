{
 "cells": [
  {
   "cell_type": "markdown",
   "metadata": {},
   "source": [
    "## Getting Data to work with."
   ]
  },
  {
   "cell_type": "code",
   "execution_count": 1,
   "metadata": {},
   "outputs": [
    {
     "ename": "ModuleNotFoundError",
     "evalue": "No module named 'numpy'",
     "output_type": "error",
     "traceback": [
      "\u001b[1;31m---------------------------------------------------------------------------\u001b[0m",
      "\u001b[1;31mModuleNotFoundError\u001b[0m                       Traceback (most recent call last)",
      "Cell \u001b[1;32mIn[1], line 1\u001b[0m\n\u001b[1;32m----> 1\u001b[0m \u001b[39mimport\u001b[39;00m \u001b[39mnumpy\u001b[39;00m \u001b[39mas\u001b[39;00m \u001b[39mnp\u001b[39;00m\n\u001b[0;32m      2\u001b[0m \u001b[39mimport\u001b[39;00m \u001b[39mpandas\u001b[39;00m \u001b[39mas\u001b[39;00m \u001b[39mpd\u001b[39;00m\n\u001b[0;32m      5\u001b[0m data \u001b[39m=\u001b[39m pd\u001b[39m.\u001b[39mread_csv(\u001b[39m'\u001b[39m\u001b[39m../Round_One_Clean/cddb-tsv.tsv\u001b[39m\u001b[39m'\u001b[39m, sep\u001b[39m=\u001b[39m\u001b[39m'\u001b[39m\u001b[39m\\t\u001b[39;00m\u001b[39m'\u001b[39m)\n",
      "\u001b[1;31mModuleNotFoundError\u001b[0m: No module named 'numpy'"
     ]
    }
   ],
   "source": [
    "import numpy as np\n",
    "import pandas as pd\n",
    " \n",
    "\n",
    "data = pd.read_csv('../OpenRefine_Work/Round_1_clean/cddb-tsv.tsv', sep='\\t')\n",
    "\n",
    "# printing data\n",
    "print(data)"
   ]
  },
  {
   "cell_type": "markdown",
   "metadata": {},
   "source": [
    "## Iterate through table"
   ]
  },
  {
   "cell_type": "code",
   "execution_count": 25,
   "metadata": {},
   "outputs": [],
   "source": [
    "def split_column(df):\n",
    "    Tracks_Dict = []\n",
    "    Tracks_id_counter = 0\n",
    "    New_Track_id_counter = 1000\n",
    "    \n",
    "    for i, row in df.iterrows():\n",
    "        # 1. get string from tracks table to track_str\n",
    "        row_track_str = df.at[i,'tracks']\n",
    "        \n",
    "        # 2. split track_str by \"|\"\n",
    "        str_prts = row_track_str.split('|')\n",
    "        \n",
    "        # 3. keep only split str that are not blank for now\n",
    "        for prt in str_prts:\n",
    "            if prt.strip() != '':\n",
    "                # 4. add dictionary elements from split to Tracks_Dict (Tracks_id_counter, new_track_Id, split_str)\n",
    "                Tracks_Dict.append([Tracks_id_counter, New_Track_id_counter, prt])\n",
    "                \n",
    "                # 5. increment counter - Tracks_id_counter\n",
    "                Tracks_id_counter += 1\n",
    "            else:\n",
    "                pass\n",
    "        \n",
    "        # 6. update row Tracks value to be new_track_Id\n",
    "        df.at[i,'tracks'] = New_Track_id_counter\n",
    "        \n",
    "        # 7. increment New_Track_id_counter\n",
    "        New_Track_id_counter += 1\n",
    "    \n",
    "    # convert list of list to data frame\n",
    "    tracks_df = pd.DataFrame(Tracks_Dict, columns = ['Id', 'Album Id', 'Name'])\n",
    "    \n",
    "    return df, tracks_df\n",
    "    "
   ]
  },
  {
   "cell_type": "markdown",
   "metadata": {},
   "source": [
    "## Sanity Check"
   ]
  },
  {
   "cell_type": "code",
   "execution_count": 26,
   "metadata": {},
   "outputs": [],
   "source": [
    "data_split, tracks_df = split_column(data)\n",
    "\n",
    "# uncomment if want to visual check\n",
    "# print(data)\n",
    "\n",
    "# print(tracks_df)"
   ]
  },
  {
   "cell_type": "markdown",
   "metadata": {},
   "source": [
    "## Export both dataframe objects to tsv files (or csv)"
   ]
  },
  {
   "cell_type": "code",
   "execution_count": 27,
   "metadata": {},
   "outputs": [],
   "source": [
    "data_split.to_csv('result_tsv/cddb_1.tsv', sep=\"\\t\")\n",
    "tracks_df.to_csv('result_tsv/cddb_tracks.tsv', sep=\"\\t\")"
   ]
  },
  {
   "cell_type": "code",
   "execution_count": null,
   "metadata": {},
   "outputs": [],
   "source": []
  }
 ],
 "metadata": {
  "kernelspec": {
   "display_name": "Python 3 (ipykernel)",
   "language": "python",
   "name": "python3"
  },
  "language_info": {
   "codemirror_mode": {
    "name": "ipython",
    "version": 3
   },
   "file_extension": ".py",
   "mimetype": "text/x-python",
   "name": "python",
   "nbconvert_exporter": "python",
   "pygments_lexer": "ipython3",
   "version": "3.9.13"
  }
 },
 "nbformat": 4,
 "nbformat_minor": 2
}
